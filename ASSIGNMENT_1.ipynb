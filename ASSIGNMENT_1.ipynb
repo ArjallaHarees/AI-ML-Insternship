{
  "nbformat": 4,
  "nbformat_minor": 0,
  "metadata": {
    "colab": {
      "provenance": [],
      "authorship_tag": "ABX9TyMByY278gyigdu48uRgeUPy",
      "include_colab_link": true
    },
    "kernelspec": {
      "name": "python3",
      "display_name": "Python 3"
    },
    "language_info": {
      "name": "python"
    }
  },
  "cells": [
    {
      "cell_type": "markdown",
      "metadata": {
        "id": "view-in-github",
        "colab_type": "text"
      },
      "source": [
        "<a href=\"https://colab.research.google.com/github/ArjallaHarees/AI-ML-Insternship/blob/main/ASSIGNMENT_1.ipynb\" target=\"_parent\"><img src=\"https://colab.research.google.com/assets/colab-badge.svg\" alt=\"Open In Colab\"/></a>"
      ]
    },
    {
      "cell_type": "code",
      "execution_count": null,
      "metadata": {
        "colab": {
          "base_uri": "https://localhost:8080/"
        },
        "id": "5vk4fSfW5mOA",
        "outputId": "b35e2882-ebb2-4275-85ed-a9a5f792beea"
      },
      "outputs": [
        {
          "output_type": "execute_result",
          "data": {
            "text/plain": [
              "[1, 2, 3, 4, 5, 6, 7, 8, 9, 6]"
            ]
          },
          "metadata": {},
          "execution_count": 1
        }
      ],
      "source": [
        "#Task 1--\n",
        "a=[1,2,3,4,5,6]\n",
        "b=[7,8,9,6]\n",
        "a+b\n"
      ]
    },
    {
      "cell_type": "code",
      "source": [
        "#Task 2--\n",
        "num= int(input(\"enter your number: \"))\n",
        "if (num%2) == 0:\n",
        "  print(\"{0} is Even\".format(num))\n",
        "else:\n",
        "   print(\" is odd\".format(num))\n"
      ],
      "metadata": {
        "colab": {
          "base_uri": "https://localhost:8080/"
        },
        "id": "uhCW5Xqg6AYw",
        "outputId": "c7013b96-984f-4dfe-f383-11f40062ea6c"
      },
      "execution_count": null,
      "outputs": [
        {
          "output_type": "stream",
          "name": "stdout",
          "text": [
            "enter your number: 3\n",
            " is odd\n"
          ]
        }
      ]
    },
    {
      "cell_type": "code",
      "source": [
        "#Task 3--\n",
        "d1 ={'S.no':[1,2,3],'Name':['hareesh','gopi','ganesh'],'Rollno':[9,8,11]}\n",
        "d1\n",
        "\n",
        "\n",
        "{'S.no': [1,2,3],\n",
        " 'Name': ['hareesh','gopi','ganesh'],\n",
        "  'Rollno': [9,8,11]}\n"
      ],
      "metadata": {
        "colab": {
          "base_uri": "https://localhost:8080/"
        },
        "id": "mRl6asB16xKZ",
        "outputId": "e5192852-e828-4745-cae6-5af128784cdf"
      },
      "execution_count": null,
      "outputs": [
        {
          "output_type": "execute_result",
          "data": {
            "text/plain": [
              "{'S.no': [1, 2, 3],\n",
              " 'Name': ['hareesh', 'gopi', 'ganesh'],\n",
              " 'Rollno': [9, 8, 11]}"
            ]
          },
          "metadata": {},
          "execution_count": 3
        }
      ]
    },
    {
      "cell_type": "code",
      "source": [
        "#Task 4--\n",
        "def find_odd_numbers(start,end):\n",
        "    for num in range(start,end + 1):\n",
        "        if num % 2 != 0:\n",
        "            print(num)\n",
        "\n",
        "find_odd_numbers(1,10)\n"
      ],
      "metadata": {
        "colab": {
          "base_uri": "https://localhost:8080/"
        },
        "id": "yPC2hhf371dc",
        "outputId": "0052c008-c547-4332-8aad-bf7c86321dcc"
      },
      "execution_count": null,
      "outputs": [
        {
          "output_type": "stream",
          "name": "stdout",
          "text": [
            "1\n",
            "3\n",
            "5\n",
            "7\n",
            "9\n"
          ]
        }
      ]
    },
    {
      "cell_type": "code",
      "source": [
        "#Task 5--\n",
        "def sum(numbers):\n",
        "    total = 0\n",
        "    for x in numbers:\n",
        "        total += x\n",
        "    return total\n",
        "print(sum((8,2,3,0,7)))\n"
      ],
      "metadata": {
        "colab": {
          "base_uri": "https://localhost:8080/"
        },
        "id": "_Ew1tqvh8kQ_",
        "outputId": "6bc67b3d-9a04-4c6d-aa96-7796f8517aab"
      },
      "execution_count": null,
      "outputs": [
        {
          "output_type": "stream",
          "name": "stdout",
          "text": [
            "20\n"
          ]
        }
      ]
    }
  ]
}